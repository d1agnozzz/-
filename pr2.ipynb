{
 "cells": [
  {
   "cell_type": "markdown",
   "metadata": {},
   "source": [
    "# Задание 1"
   ]
  },
  {
   "cell_type": "code",
   "execution_count": 2,
   "metadata": {},
   "outputs": [],
   "source": [
    "a = 22695477\n",
    "\n",
    "b = 1\n",
    "\n",
    "m = 2**32"
   ]
  },
  {
   "cell_type": "code",
   "execution_count": 3,
   "metadata": {},
   "outputs": [],
   "source": [
    "def RAND(a, b, m, x_i):\n",
    "    return (a*x_i + b) % m"
   ]
  },
  {
   "cell_type": "code",
   "execution_count": 58,
   "metadata": {},
   "outputs": [
    {
     "data": {
      "text/plain": [
       "2156045615"
      ]
     },
     "execution_count": 58,
     "metadata": {},
     "output_type": "execute_result"
    }
   ],
   "source": [
    "RAND(a, b, m, 22695478)"
   ]
  },
  {
   "cell_type": "markdown",
   "metadata": {},
   "source": [
    "# Задание 2"
   ]
  },
  {
   "cell_type": "code",
   "execution_count": 4,
   "metadata": {},
   "outputs": [],
   "source": [
    "x0 = 1\n",
    "\n",
    "A = 0\n",
    "\n",
    "B = 10\n",
    "\n",
    "N = 100"
   ]
  },
  {
   "cell_type": "code",
   "execution_count": 63,
   "metadata": {},
   "outputs": [
    {
     "name": "stdout",
     "output_type": "stream",
     "text": [
      "N = 100\n",
      "\n",
      "[22695478, 2156045615, 2867233980]\n",
      "\n",
      "min: 3518072\n",
      "max: 4193161758\n",
      "--------------------------\n",
      "N = 1000\n",
      "\n",
      "[22695478, 2156045615, 2867233980]\n",
      "\n",
      "min: 2651212\n",
      "max: 4289927881\n",
      "--------------------------\n",
      "N = 10000\n",
      "\n",
      "[22695478, 2156045615, 2867233980]\n",
      "\n",
      "min: 263814\n",
      "max: 4294816448\n",
      "--------------------------\n",
      "N = 100000\n",
      "\n",
      "[22695478, 2156045615, 2867233980]\n",
      "\n",
      "min: 42156\n",
      "max: 4294967034\n",
      "--------------------------\n"
     ]
    }
   ],
   "source": [
    "x0 = 1\n",
    "A = 0\n",
    "B = 10\n",
    "N = 10 ** 2\n",
    "\n",
    "def generate_random_numbers(N: int, integers: bool = False):\n",
    "    RNumsArr = list()\n",
    "    RNumsArr.append(RAND(a, b, m, x0))\n",
    "\n",
    "    RParamsArr = list()\n",
    "\n",
    "    for i in range(N-1):\n",
    "        RNumsArr.append(RAND(a, b, m, RNumsArr[-1]))\n",
    "\n",
    "    if integers:\n",
    "        return RNumsArr\n",
    "\n",
    "    for i in range(N): \n",
    "        RNumsArr[i] = RNumsArr[i] / m\n",
    "\n",
    "        RParamsArr.append( A + (B - A) * RNumsArr[i] )\n",
    "    \n",
    "    return RParamsArr\n",
    "\n",
    "\n",
    "for n in range(2, 6):\n",
    "    N = 10 ** n\n",
    "    RParamsArr = generate_random_numbers(N, True)\n",
    "\n",
    "    print(f'N = {N}\\n\\n{RParamsArr[:3]}\\n')\n",
    "    print(f'min: {min(RParamsArr)}')\n",
    "    print(f'max: {max(RParamsArr)}')\n",
    "    print('--------------------------')"
   ]
  },
  {
   "cell_type": "markdown",
   "metadata": {},
   "source": [
    "# Задание 3"
   ]
  },
  {
   "cell_type": "code",
   "execution_count": 33,
   "metadata": {},
   "outputs": [
    {
     "data": {
      "text/plain": [
       "5.0"
      ]
     },
     "execution_count": 33,
     "metadata": {},
     "output_type": "execute_result"
    }
   ],
   "source": [
    "M = (A + B) / 2\n",
    "M"
   ]
  },
  {
   "cell_type": "code",
   "execution_count": 34,
   "metadata": {},
   "outputs": [
    {
     "data": {
      "text/plain": [
       "8.333333333333334"
      ]
     },
     "execution_count": 34,
     "metadata": {},
     "output_type": "execute_result"
    }
   ],
   "source": [
    "D = (B - A) ** 2 / 12\n",
    "D"
   ]
  },
  {
   "cell_type": "code",
   "execution_count": 42,
   "metadata": {},
   "outputs": [],
   "source": [
    "def calculate_error(nums: list[int]):\n",
    "    M_e2 = sum(RParamsArr) / N\n",
    "    D_e2 = (sum(list(map(lambda x: x ** 2, RParamsArr))) / N - M_e2 ** 2 ) * (N / (N-1))\n",
    "\n",
    "    EpsM = abs((M - M_e2) / M) * 100\n",
    "    EpsD = abs((D - D_e2) / D) * 100\n",
    "\n",
    "    print(f'N = {len(nums)}')\n",
    "    print(f'M_e2 = {M_e2}')\n",
    "    print(f'D_e2 = {D_e2}')\n",
    "    print(f'EpsM = {EpsM}')\n",
    "    print(f'EpsD = {EpsD}')"
   ]
  },
  {
   "cell_type": "code",
   "execution_count": 48,
   "metadata": {},
   "outputs": [
    {
     "name": "stdout",
     "output_type": "stream",
     "text": [
      "N = 100\n",
      "M_e2 = 4.844686777098104\n",
      "D_e2 = 8.186038407097199\n",
      "EpsM = 3.106264458037913\n",
      "EpsD = 1.7675391148336246\n",
      "----------------------------\n",
      "N = 1000\n",
      "M_e2 = 5.082843668749556\n",
      "D_e2 = 8.127648959809132\n",
      "EpsM = 1.6568733749911146\n",
      "EpsD = 2.4682124822904186\n",
      "----------------------------\n",
      "N = 10000\n",
      "M_e2 = 4.997016315227374\n",
      "D_e2 = 8.308053672551782\n",
      "EpsM = 0.05967369545251344\n",
      "EpsD = 0.3033559293786183\n",
      "----------------------------\n",
      "N = 100000\n",
      "M_e2 = 4.992300205504522\n",
      "D_e2 = 8.344333893779552\n",
      "EpsM = 0.15399588990955948\n",
      "EpsD = 0.13200672535462132\n",
      "----------------------------\n"
     ]
    }
   ],
   "source": [
    "for n in range(2, 6):\n",
    "    N = 10 ** n\n",
    "    RParamsArr = generate_random_numbers(N)\n",
    "\n",
    "    calculate_error(RParamsArr)\n",
    "    print('----------------------------')"
   ]
  },
  {
   "cell_type": "markdown",
   "metadata": {},
   "source": [
    "# Задание 4"
   ]
  },
  {
   "cell_type": "code",
   "execution_count": 53,
   "metadata": {},
   "outputs": [],
   "source": [
    "def RAND_Period(nums: list[float]):\n",
    "    n = len(nums)\n",
    "    period = 0\n",
    "    first_pos = 1\n",
    "    second_pos = 2\n",
    "\n",
    "    for i in range(n):\n",
    "        element = nums[i]\n",
    "        for j in range(i, n):\n",
    "            if element == nums[j] and i != j:\n",
    "                period = j - i\n",
    "                first_pos = i\n",
    "                second_pos = j\n",
    "                return period, first_pos, second_pos\n",
    "    \n",
    "    return -1, -1, -1\n",
    "\n",
    "def period_optimized(nums: list[float]):\n",
    "    n = len(nums)\n",
    "    period = 0\n",
    "    first_pos = 1\n",
    "    second_pos = 2\n",
    "\n",
    "    unique = {}\n",
    "\n",
    "    for i in range(n):\n",
    "        element = nums[i]\n",
    "\n",
    "        if unique"
   ]
  },
  {
   "cell_type": "code",
   "execution_count": 65,
   "metadata": {},
   "outputs": [
    {
     "data": {
      "text/plain": [
       "(0, 1, 2)"
      ]
     },
     "execution_count": 65,
     "metadata": {},
     "output_type": "execute_result"
    }
   ],
   "source": [
    "RAND_Period([1, 2, 3, 4, 1, 2])"
   ]
  },
  {
   "cell_type": "code",
   "execution_count": 61,
   "metadata": {},
   "outputs": [
    {
     "name": "stdout",
     "output_type": "stream",
     "text": [
      "N = 100\n",
      "period = -1\n",
      "first_pos = -1\n",
      "second_pos = -1\n",
      "------------------------\n",
      "N = 1000\n",
      "period = -1\n",
      "first_pos = -1\n",
      "second_pos = -1\n",
      "------------------------\n",
      "N = 10000\n",
      "period = -1\n",
      "first_pos = -1\n",
      "second_pos = -1\n",
      "------------------------\n",
      "N = 100000\n",
      "period = -1\n",
      "first_pos = -1\n",
      "second_pos = -1\n",
      "------------------------\n"
     ]
    }
   ],
   "source": [
    "for n in range(2, 6):\n",
    "    N = 10 ** n\n",
    "    RParamsArr = generate_random_numbers(N, integers=True)\n",
    "\n",
    "    period, first_pos, second_pos = RAND_Period(RParamsArr)\n",
    "\n",
    "    print(f'N = {N}')\n",
    "    print(f'period = {period}')\n",
    "    print(f'first_pos = {first_pos}')\n",
    "    print(f'second_pos = {second_pos}')\n",
    "    print('------------------------')"
   ]
  },
  {
   "cell_type": "code",
   "execution_count": null,
   "metadata": {},
   "outputs": [],
   "source": []
  }
 ],
 "metadata": {
  "kernelspec": {
   "display_name": ".venv",
   "language": "python",
   "name": "python3"
  },
  "language_info": {
   "codemirror_mode": {
    "name": "ipython",
    "version": 3
   },
   "file_extension": ".py",
   "mimetype": "text/x-python",
   "name": "python",
   "nbconvert_exporter": "python",
   "pygments_lexer": "ipython3",
   "version": "3.11.7"
  }
 },
 "nbformat": 4,
 "nbformat_minor": 2
}
