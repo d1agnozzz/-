{
 "cells": [
  {
   "cell_type": "markdown",
   "metadata": {},
   "source": [
    "# Задание 1"
   ]
  },
  {
   "cell_type": "code",
   "execution_count": 21,
   "metadata": {},
   "outputs": [],
   "source": [
    "a = 22695477\n",
    "\n",
    "b = 1\n",
    "\n",
    "m = 2**32"
   ]
  },
  {
   "cell_type": "code",
   "execution_count": 47,
   "metadata": {},
   "outputs": [],
   "source": [
    "def RAND(a, b, m, x_i):\n",
    "    return (a*x_i + b) % m"
   ]
  },
  {
   "cell_type": "code",
   "execution_count": 48,
   "metadata": {},
   "outputs": [],
   "source": [
    "def RAND_python(a, b, m, x_i):\n",
    "    import random\n",
    "    random.seed(x_i)\n",
    "    return random.random()"
   ]
  },
  {
   "cell_type": "code",
   "execution_count": 56,
   "metadata": {},
   "outputs": [],
   "source": [
    "def print_divider():\n",
    "    print('------------------------')"
   ]
  },
  {
   "cell_type": "markdown",
   "metadata": {},
   "source": [
    "# Задание 2"
   ]
  },
  {
   "cell_type": "code",
   "execution_count": 79,
   "metadata": {},
   "outputs": [
    {
     "name": "stdout",
     "output_type": "stream",
     "text": [
      "Custom generator\n",
      "N = 100\n",
      "\n",
      "[0.05284202750772238, 5.019934882875532, 6.675799321383238]\n",
      "\n",
      "min: 0.012337379157543182\n",
      "max: 9.972152116242796\n",
      "--------------------------\n",
      "N = 1000\n",
      "\n",
      "[0.05284202750772238, 5.019934882875532, 6.675799321383238]\n",
      "\n",
      "min: 0.012337379157543182\n",
      "max: 9.994865208864212\n",
      "--------------------------\n",
      "N = 10000\n",
      "\n",
      "[0.05284202750772238, 5.019934882875532, 6.675799321383238]\n",
      "\n",
      "min: 0.0006797537207603455\n",
      "max: 9.999512247741222\n",
      "--------------------------\n",
      "N = 100000\n",
      "\n",
      "[0.05284202750772238, 5.019934882875532, 6.675799321383238]\n",
      "\n",
      "min: 0.00021725893020629883\n",
      "max: 9.999896697700024\n",
      "--------------------------\n",
      "\n",
      "Built-in python generator\n",
      "N = 100\n",
      "\n",
      "[0.13436424411240122, 9.047842888975781, 4.71751232466263]\n",
      "\n",
      "min: 0.13436424411240122\n",
      "max: 9.784135904953887\n",
      "--------------------------\n",
      "N = 1000\n",
      "\n",
      "[0.13436424411240122, 9.047842888975781, 4.71751232466263]\n",
      "\n",
      "min: 0.058393570440725684\n",
      "max: 9.999494837561082\n",
      "--------------------------\n",
      "N = 10000\n",
      "\n",
      "[0.13436424411240122, 9.047842888975781, 4.71751232466263]\n",
      "\n",
      "min: 0.00042646678991120623\n",
      "max: 9.999553273768761\n",
      "--------------------------\n",
      "N = 100000\n",
      "\n",
      "[0.13436424411240122, 9.047842888975781, 4.71751232466263]\n",
      "\n",
      "min: 0.00016289297504856748\n",
      "max: 9.999867577912468\n",
      "--------------------------\n"
     ]
    }
   ],
   "source": [
    "x0 = 1.0\n",
    "A = 0\n",
    "B = 10\n",
    "N = 10 ** 2\n",
    "\n",
    "def generate_random_numbers(N: int, integers: bool = False):\n",
    "    RNumsArr = list()\n",
    "    RNumsArr.append(RAND(a, b, m, x0))\n",
    "\n",
    "    RParamsArr = list()\n",
    "\n",
    "    for i in range(N-1):\n",
    "        RNumsArr.append(RAND(a, b, m, RNumsArr[-1]))\n",
    "\n",
    "    if integers:\n",
    "        return RNumsArr\n",
    "\n",
    "    for i in range(N): \n",
    "        RNumsArr[i] = RNumsArr[i] / m\n",
    "\n",
    "        RParamsArr.append( A + (B - A) * RNumsArr[i] )\n",
    "    \n",
    "    return RParamsArr\n",
    "\n",
    "def generate_random_numbers_python(N:int):\n",
    "    RParamsArr = list()\n",
    "    RParamsArr.append(RAND_python(a, b, m, x0))\n",
    "\n",
    "    for i in range(N-1):\n",
    "        RParamsArr.append(RAND_python(a, b, m, RParamsArr[-1]) * (B - A))\n",
    "    return RParamsArr\n",
    "\n",
    "print('Custom generator')\n",
    "for n in range(2, 6):\n",
    "    N = 10 ** n\n",
    "    RParamsArr = generate_random_numbers(N)\n",
    "\n",
    "    print(f'N = {N}\\n\\n{RParamsArr[:3]}\\n')\n",
    "    print(f'min: {min(RParamsArr)}')\n",
    "    print(f'max: {max(RParamsArr)}')\n",
    "    print('--------------------------')\n",
    "\n",
    "print()\n",
    "print('Built-in python generator')\n",
    "for n in range(2, 6):\n",
    "    N = 10 ** n\n",
    "    RParamsArr = generate_random_numbers_python(N)\n",
    "\n",
    "    print(f'N = {N}\\n\\n{RParamsArr[:3]}\\n')\n",
    "    print(f'min: {min(RParamsArr)}')\n",
    "    print(f'max: {max(RParamsArr)}')\n",
    "    print('--------------------------')"
   ]
  },
  {
   "cell_type": "markdown",
   "metadata": {},
   "source": [
    "# Задание 3"
   ]
  },
  {
   "cell_type": "code",
   "execution_count": 54,
   "metadata": {},
   "outputs": [
    {
     "data": {
      "text/plain": [
       "5.0"
      ]
     },
     "execution_count": 54,
     "metadata": {},
     "output_type": "execute_result"
    }
   ],
   "source": [
    "M = (A + B) / 2\n",
    "M"
   ]
  },
  {
   "cell_type": "code",
   "execution_count": 55,
   "metadata": {},
   "outputs": [
    {
     "data": {
      "text/plain": [
       "8.333333333333334"
      ]
     },
     "execution_count": 55,
     "metadata": {},
     "output_type": "execute_result"
    }
   ],
   "source": [
    "D = (B - A) ** 2 / 12\n",
    "D"
   ]
  },
  {
   "cell_type": "code",
   "execution_count": 27,
   "metadata": {},
   "outputs": [],
   "source": [
    "def calculate_error(nums: list[int]):\n",
    "    M_e2 = sum(RParamsArr) / N\n",
    "    D_e2 = (sum(list(map(lambda x: x ** 2, RParamsArr))) / N - M_e2 ** 2 ) * (N / (N-1))\n",
    "\n",
    "    EpsM = abs((M - M_e2) / M) * 100\n",
    "    EpsD = abs((D - D_e2) / D) * 100\n",
    "\n",
    "    print(f'N = {len(nums)}')\n",
    "    print(f'M_e2 = {M_e2}')\n",
    "    print(f'D_e2 = {D_e2}')\n",
    "    print(f'EpsM = {EpsM}')\n",
    "    print(f'EpsD = {EpsD}')"
   ]
  },
  {
   "cell_type": "code",
   "execution_count": 91,
   "metadata": {},
   "outputs": [
    {
     "name": "stdout",
     "output_type": "stream",
     "text": [
      "Custom generator\n",
      "------------------------\n",
      "N = 100\n",
      "M_e2 = 4.765576192643493\n",
      "D_e2 = 9.605326142216686\n",
      "EpsM = 4.688476147130132\n",
      "EpsD = 15.263913706600226\n",
      "----------------------------\n",
      "N = 1000\n",
      "M_e2 = 4.857646257919259\n",
      "D_e2 = 8.469974893750537\n",
      "EpsM = 2.847074841614816\n",
      "EpsD = 1.6396987250064399\n",
      "----------------------------\n",
      "N = 10000\n",
      "M_e2 = 4.962775821193354\n",
      "D_e2 = 8.425318520171631\n",
      "EpsM = 0.7444835761329216\n",
      "EpsD = 1.1038222420595645\n",
      "----------------------------\n",
      "N = 100000\n",
      "M_e2 = 5.008114353395719\n",
      "D_e2 = 8.279912514907835\n",
      "EpsM = 0.1622870679143773\n",
      "EpsD = 0.6410498211059873\n",
      "----------------------------\n"
     ]
    }
   ],
   "source": [
    "print('Custom generator')\n",
    "print_divider()\n",
    "for n in range(2, 6):\n",
    "    N = 10 ** n\n",
    "    RParamsArr = generate_random_numbers(N)\n",
    "\n",
    "    calculate_error(RParamsArr)\n",
    "    print('----------------------------')"
   ]
  },
  {
   "cell_type": "code",
   "execution_count": 92,
   "metadata": {},
   "outputs": [
    {
     "name": "stdout",
     "output_type": "stream",
     "text": [
      "Built-in python generator\n",
      "------------------------\n",
      "N = 100\n",
      "M_e2 = 5.009911041077395\n",
      "D_e2 = 9.32169693152612\n",
      "EpsM = 0.198220821547892\n",
      "EpsD = 11.860363178313428\n",
      "------------------------\n",
      "N = 1000\n",
      "M_e2 = 5.191692399987987\n",
      "D_e2 = 8.574545387203624\n",
      "EpsM = 3.833847999759747\n",
      "EpsD = 2.894544646443485\n",
      "------------------------\n",
      "N = 10000\n",
      "M_e2 = 5.000817211640271\n",
      "D_e2 = 8.472100802526857\n",
      "EpsM = 0.016344232805423076\n",
      "EpsD = 1.6652096303222734\n",
      "------------------------\n",
      "N = 100000\n",
      "M_e2 = 4.997062679981586\n",
      "D_e2 = 8.351258985695775\n",
      "EpsM = 0.05874640036827473\n",
      "EpsD = 0.21510782834929643\n",
      "------------------------\n"
     ]
    }
   ],
   "source": [
    "print('Built-in python generator')\n",
    "print_divider()\n",
    "for n in range(2, 6):\n",
    "    N = 10 ** n\n",
    "    RParamsArr = generate_random_numbers_python(N)\n",
    "    calculate_error(RParamsArr)\n",
    "    print_divider()"
   ]
  },
  {
   "cell_type": "markdown",
   "metadata": {},
   "source": [
    "# Задание 4"
   ]
  },
  {
   "cell_type": "code",
   "execution_count": 84,
   "metadata": {},
   "outputs": [],
   "source": [
    "def find_period_optimized(n: int, nums: list[int] = None):\n",
    "    period = 0\n",
    "    first_pos = 1\n",
    "    second_pos = 2\n",
    "\n",
    "    x_0 = 1.0\n",
    "\n",
    "    unique = dict()\n",
    "\n",
    "    current_rand = x_0\n",
    "    current_seed = x_0\n",
    "\n",
    "    for i in range(n):\n",
    "        if current_rand in unique.keys():\n",
    "            return i - unique[current_rand], unique[current_rand], i\n",
    "        else:\n",
    "            unique[current_rand] = i\n",
    "            current_seed = RAND(a, b, m, current_seed)\n",
    "            current_rand = current_seed / m\n",
    "            current_rand = current_rand * 10\n",
    "        \n",
    "        \n",
    "    return -1, -1, -1\n",
    "\n",
    "def find_period(nums: list[int]):\n",
    "    period = 0\n",
    "    first_pos = 1\n",
    "    second_pos = 2\n",
    "\n",
    "\n",
    "\n",
    "    unique = dict()\n",
    "\n",
    "    current_rand = nums[0]\n",
    "\n",
    "    for i in range(1, len(nums)):\n",
    "        if current_rand in unique.keys():\n",
    "            return i - unique[current_rand], unique[current_rand], i\n",
    "        else:\n",
    "            unique[current_rand] = i\n",
    "            current_rand = nums[i]\n",
    "\n",
    "\n",
    "    return -1, -1, -1\n"
   ]
  },
  {
   "cell_type": "code",
   "execution_count": 89,
   "metadata": {},
   "outputs": [
    {
     "name": "stdout",
     "output_type": "stream",
     "text": [
      "Custom generator\n",
      "------------------------\n",
      "N = 100\n",
      "period = -1\n",
      "first_pos = -1\n",
      "second_pos = -1\n",
      "------------------------\n",
      "N = 1000\n",
      "period = -1\n",
      "first_pos = -1\n",
      "second_pos = -1\n",
      "------------------------\n",
      "N = 10000\n",
      "period = -1\n",
      "first_pos = -1\n",
      "second_pos = -1\n",
      "------------------------\n",
      "N = 100000\n",
      "period = 44789\n",
      "first_pos = 17291\n",
      "second_pos = 62080\n",
      "------------------------\n"
     ]
    }
   ],
   "source": [
    "# for n in range(2, 6):\n",
    "#     N = 10 ** n\n",
    "\n",
    "#     period, first_pos, second_pos = find_period_optimized(N)\n",
    "\n",
    "#     print(f'N = {N}')\n",
    "#     print(f'period = {period}')\n",
    "#     print(f'first_pos = {first_pos}')\n",
    "#     print(f'second_pos = {second_pos}')\n",
    "#     print('------------------------')\n",
    "\n",
    "print('Custom generator')\n",
    "print_divider()\n",
    "for n in range(2, 6):\n",
    "    N = 10 ** n\n",
    "\n",
    "    nums = generate_random_numbers(N)\n",
    "    period, first_pos, second_pos = find_period(nums)\n",
    "\n",
    "    print(f'N = {N}')\n",
    "    print(f'period = {period}')\n",
    "    print(f'first_pos = {first_pos}')\n",
    "    print(f'second_pos = {second_pos}')\n",
    "    print('------------------------')"
   ]
  },
  {
   "cell_type": "code",
   "execution_count": 90,
   "metadata": {},
   "outputs": [
    {
     "name": "stdout",
     "output_type": "stream",
     "text": [
      "Built-in python generator\n",
      "------------------------\n",
      "N = 100\n",
      "period = -1\n",
      "first_pos = -1\n",
      "second_pos = -1\n",
      "------------------------\n",
      "N = 1000\n",
      "period = -1\n",
      "first_pos = -1\n",
      "second_pos = -1\n",
      "------------------------\n",
      "N = 10000\n",
      "period = -1\n",
      "first_pos = -1\n",
      "second_pos = -1\n",
      "------------------------\n",
      "N = 100000\n",
      "period = -1\n",
      "first_pos = -1\n",
      "second_pos = -1\n",
      "------------------------\n"
     ]
    }
   ],
   "source": [
    "print('Built-in python generator')\n",
    "print_divider()\n",
    "for n in range(2, 6):\n",
    "    N = 10 ** n\n",
    "\n",
    "    nums = generate_random_numbers_python(N)\n",
    "    period, first_pos, second_pos = find_period(nums)\n",
    "\n",
    "    print(f'N = {N}')\n",
    "    print(f'period = {period}')\n",
    "    print(f'first_pos = {first_pos}')\n",
    "    print(f'second_pos = {second_pos}')\n",
    "    print('------------------------')"
   ]
  },
  {
   "cell_type": "markdown",
   "metadata": {},
   "source": [
    "# Задание 5"
   ]
  },
  {
   "cell_type": "code",
   "execution_count": 31,
   "metadata": {},
   "outputs": [],
   "source": [
    "from math import floor\n",
    "def GetFreqDistr(nums, A, B, IntervalsCount):\n",
    "    dY = (B - A) / IntervalsCount\n",
    "\n",
    "    Freq = dict()\n",
    "    for i in range(IntervalsCount):\n",
    "        Freq[i] = 0\n",
    "\n",
    "    for j in range(len(nums)):\n",
    "        Yc = nums[j]\n",
    "        fN = floor(Yc/dY)\n",
    "        Freq[fN] = Freq[fN] + 1\n",
    "\n",
    "    for i in range(IntervalsCount):\n",
    "        Freq[i] = Freq[i] / (len(nums) * dY)\n",
    "\n",
    "    return Freq"
   ]
  },
  {
   "cell_type": "markdown",
   "metadata": {},
   "source": [
    "# Задание 6"
   ]
  },
  {
   "cell_type": "code",
   "execution_count": 100,
   "metadata": {},
   "outputs": [],
   "source": [
    "def calculate_Pearson(resY, N, K):\n",
    "    # return sum(list(map(lambda x: ((N/K) - x * N) ** 2 , resY.values()  ) )) * K / N\n",
    "\n",
    "    # return sum(\n",
    "    #     list(map(lambda x: (N * (1 / K) - (x * N)) ** 2 / (N * (1 / K)), resY.values()))\n",
    "    # )\n",
    "\n",
    "    return sum([(N/K - resY[i]*N)**2 * K/N for i in range(K)])\n",
    "\n",
    "def pearson_(resY, N, K):\n",
    "    target_distribution = [1/K for i in range(K)]\n",
    "\n",
    "    return sum([(x-y)**2 / ])\n",
    "\n"
   ]
  },
  {
   "cell_type": "code",
   "execution_count": 98,
   "metadata": {},
   "outputs": [],
   "source": [
    "import matplotlib.pyplot as plt\n",
    "import seaborn as sns\n",
    "sns.set_theme()"
   ]
  },
  {
   "cell_type": "code",
   "execution_count": 102,
   "metadata": {},
   "outputs": [
    {
     "name": "stdout",
     "output_type": "stream",
     "text": [
      "N = 100\n",
      "Критерий Пирсона: 15.6\n",
      "Хи-квадрат: 0.9242807368313661\n",
      "----------------\n",
      "N = 1000\n",
      "Критерий Пирсона: 7.6000000000000005\n",
      "Хи-квадрат: 0.4250965761355446\n",
      "----------------\n",
      "N = 10000\n",
      "Критерий Пирсона: 7.164\n",
      "Хи-квадрат: 0.37995083313681133\n",
      "----------------\n",
      "N = 100000\n",
      "Критерий Пирсона: 23.9326\n",
      "Хи-квадрат: 0.9955908496205416\n",
      "----------------\n"
     ]
    },
    {
     "data": {
      "image/png": "[encoded data removed]",
      "text/plain": [
       "<Figure size 640x480 with 1 Axes>"
      ]
     },
     "metadata": {},
     "output_type": "display_data"
    },
    {
     "data": {
      "image/png": "[encoded data removed]",
      "text/plain": [
       "<Figure size 640x480 with 1 Axes>"
      ]
     },
     "metadata": {},
     "output_type": "display_data"
    },
    {
     "data": {
      "image/png": "[encoded data removed]",
      "text/plain": [
       "<Figure size 640x480 with 1 Axes>"
      ]
     },
     "metadata": {},
     "output_type": "display_data"
    },
    {
     "data": {
      "image/png": "[encoded data removed]",
      "text/plain": [
       "<Figure size 640x480 with 1 Axes>"
      ]
     },
     "metadata": {},
     "output_type": "display_data"
    },
    {
     "data": {
      "text/plain": [
       "<Figure size 640x480 with 0 Axes>"
      ]
     },
     "metadata": {},
     "output_type": "display_data"
    }
   ],
   "source": [
    "K = 10\n",
    "resX = dict()\n",
    "\n",
    "import scipy.stats\n",
    "import numpy as np\n",
    "\n",
    "for k in range(K):\n",
    "    resX[k] = (B-A)/K * (0.5 + k) \n",
    "\n",
    "for n in range(2, 6):\n",
    "    N = 10 ** n\n",
    "    RParamsArr = generate_random_numbers(N)\n",
    "    resY = GetFreqDistr(RParamsArr, A, B, K)\n",
    "    sns.barplot(x=resX, y = resY)\n",
    "    plt.figure()\n",
    "\n",
    "    pearson = calculate_Pearson(resY, N, K)\n",
    "\n",
    "    # chisq = scipy.stats.chisquare(list(resY.values()), ddof=0).pvalue\n",
    "    chisq = scipy.stats.chi2.cdf(pearson, K-1)\n",
    "    \n",
    "    print(f'N = {N}')\n",
    "    print(f'Критерий Пирсона: {pearson}')\n",
    "    print(f'Хи-квадрат: {chisq}')\n",
    "    print('----------------')"
   ]
  },
  {
   "cell_type": "code",
   "execution_count": 93,
   "metadata": {},
   "outputs": [
    {
     "name": "stdout",
     "output_type": "stream",
     "text": [
      "N = 100\n",
      "Критерий Пирсона: 7.800000000000001\n",
      "Хи-квадрат: 0.4455795641271432\n",
      "----------------\n",
      "N = 1000\n",
      "Критерий Пирсона: 9.78\n",
      "Хи-квадрат: 0.6314125772771293\n",
      "----------------\n",
      "N = 10000\n",
      "Критерий Пирсона: 9.358\n",
      "Хи-квадрат: 0.595094817626599\n",
      "----------------\n",
      "N = 100000\n",
      "Критерий Пирсона: 3.5696000000000003\n",
      "Хи-квадрат: 0.06260559116252089\n",
      "----------------\n"
     ]
    },
    {
     "data": {
      "image/png": "[encoded data removed]",
      "text/plain": [
       "<Figure size 640x480 with 1 Axes>"
      ]
     },
     "metadata": {},
     "output_type": "display_data"
    },
    {
     "data": {
      "image/png": "[encoded data removed]",
      "text/plain": [
       "<Figure size 640x480 with 1 Axes>"
      ]
     },
     "metadata": {},
     "output_type": "display_data"
    },
    {
     "data": {
      "image/png": "[encoded data removed]",
      "text/plain": [
       "<Figure size 640x480 with 1 Axes>"
      ]
     },
     "metadata": {},
     "output_type": "display_data"
    },
    {
     "data": {
      "image/png": "[encoded data removed]",
      "text/plain": [
       "<Figure size 640x480 with 1 Axes>"
      ]
     },
     "metadata": {},
     "output_type": "display_data"
    },
    {
     "data": {
      "text/plain": [
       "<Figure size 640x480 with 0 Axes>"
      ]
     },
     "metadata": {},
     "output_type": "display_data"
    }
   ],
   "source": [
    "for n in range(2, 6):\n",
    "    N = 10 ** n\n",
    "    RParamsArr = generate_random_numbers_python(N)\n",
    "    resY = GetFreqDistr(RParamsArr, A, B, K)\n",
    "    sns.barplot(x=resX, y = resY)\n",
    "    plt.figure()\n",
    "\n",
    "    pearson = calculate_Pearson(resY, N, K)\n",
    "\n",
    "    # chisq = scipy.stats.chisquare(list(resY.values()), ddof=0).pvalue\n",
    "    chisq = scipy.stats.chi2.cdf(pearson, K-1)\n",
    "    \n",
    "    print(f'N = {N}')\n",
    "    print(f'Критерий Пирсона: {pearson}')\n",
    "    print(f'Хи-квадрат: {chisq}')\n",
    "    print('----------------')"
   ]
  },
  {
   "cell_type": "code",
   "execution_count": null,
   "metadata": {},
   "outputs": [],
   "source": []
  }
 ],
 "metadata": {
  "kernelspec": {
   "display_name": ".venv",
   "language": "python",
   "name": "python3"
  },
  "language_info": {
   "codemirror_mode": {
    "name": "ipython",
    "version": 3
   },
   "file_extension": ".py",
   "mimetype": "text/x-python",
   "name": "python",
   "nbconvert_exporter": "python",
   "pygments_lexer": "ipython3",
   "version": "3.11.7"
  }
 },
 "nbformat": 4,
 "nbformat_minor": 2
}
