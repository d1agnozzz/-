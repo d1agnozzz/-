{
 "cells": [
  {
   "cell_type": "code",
   "execution_count": 1,
   "metadata": {},
   "outputs": [],
   "source": [
    "import random"
   ]
  },
  {
   "cell_type": "code",
   "execution_count": 1,
   "metadata": {},
   "outputs": [],
   "source": [
    "def generate_T1_t2(total_time: float, input_time_max: float, process_time_max: float):\n",
    "    elapsed_time = 0\n",
    "    input_moments = list()\n",
    "    process_times = list()\n",
    "\n",
    "    if input_time_max <= 0:\n",
    "        raise ValueError(\"input_time_max should be greater that 0\")\n",
    "    \n",
    "    while elapsed_time < total_time:\n",
    "        input_time = random.random() * input_time_max\n",
    "        process_time = random.random() * process_time_max\n",
    "        elapsed_time += input_time\n",
    "        # print(elapsed_time)\n",
    "        input_moments.append(elapsed_time)\n",
    "        process_times.append(process_time)\n",
    "\n",
    "    return elapsed_time, input_moments, process_times"
   ]
  },
  {
   "cell_type": "code",
   "execution_count": 6,
   "metadata": {},
   "outputs": [],
   "source": [
    "def generate_T1_t2_exp(total_time: float, lambda1: float, lambda2: float):\n",
    "    input_moments = list()\n",
    "    process_times = list()\n",
    "    \n",
    "    elapsed_time = 0\n",
    "    \n",
    "    from math import log\n",
    "    while elapsed_time < total_time:\n",
    "        input_time = -1 / lambda1 * log(random.random())\n",
    "        process_time = -1 / lambda2 * log(random.random())\n",
    "        elapsed_time += input_time\n",
    "        # print(elapsed_time)\n",
    "        input_moments.append(elapsed_time)\n",
    "        process_times.append(process_time)\n",
    "\n",
    "    return elapsed_time, input_moments, process_times"
   ]
  },
  {
   "cell_type": "code",
   "execution_count": 7,
   "metadata": {},
   "outputs": [],
   "source": [
    "import random\n",
    "\n",
    "def generalized_model_with_buffer(input_moments: list[float], process_times: list[float], buffer_length: int):\n",
    "\n",
    "    skipped = 0\n",
    "    downtime = 0\n",
    "    queue = 0\n",
    "    queue_busy_time = 0\n",
    "    processor_clock = 0\n",
    "\n",
    "    busy_time_boundaries = list()\n",
    "    busy_time_boundaries.append( (input_moments[0], input_moments[0]+process_times[0]) )\n",
    "\n",
    "    for i in range(1, len(input_moments)):\n",
    "        last_busy_start = busy_time_boundaries[-1][0]\n",
    "        last_busy_end = busy_time_boundaries[-1][1]\n",
    "\n",
    "\n",
    "        # заполнение очереди\n",
    "        if queue < buffer_length:\n",
    "            queue += 1\n",
    "            queue_busy_time += process_times[i]\n",
    "        # очистка очереди\n",
    "        elif processor_clock < input_moments[i]:\n",
    "            processor_clock = input_moments[i-1] + queue_busy_time\n",
    "            queue = 1\n",
    "            queue_busy_time = process_times[i]\n",
    "        # пропущенная заявка\n",
    "        else:\n",
    "            skipped += 1\n",
    "\n",
    "        # if last_busy_start < input_moments[i] < last_busy_end:\n",
    "        #     skipped += 1\n",
    "        # else:\n",
    "        #     downtime += input_moments[i] - last_busy_end\n",
    "\n",
    "        #     busy_start = input_moments[i]\n",
    "        #     busy_end = busy_start + process_times[i]\n",
    "        #     # print(f'Начало и конец обработки пакета #{i}: ({busy_start}, {busy_end})')\n",
    "        #     busy_time_boundaries.append( (busy_start, busy_end) )\n",
    "\n",
    "    proccesed_count = len(input_moments) - skipped\n",
    "\n",
    "    processing_probability = proccesed_count / len(input_moments)\n",
    "\n",
    "    return processing_probability"
   ]
  },
  {
   "cell_type": "code",
   "execution_count": 8,
   "metadata": {},
   "outputs": [],
   "source": [
    "import numpy as np\n",
    "import matplotlib.pyplot as plt\n",
    "import seaborn as sns\n",
    "sns.set_theme()"
   ]
  },
  {
   "cell_type": "code",
   "execution_count": 60,
   "metadata": {},
   "outputs": [],
   "source": [
    "SIMULATION_TIME = 10_000\n",
    "LAMBDA_1 = 0.3\n",
    "LAMBDA_2 = 0.4"
   ]
  },
  {
   "cell_type": "code",
   "execution_count": 64,
   "metadata": {},
   "outputs": [
    {
     "name": "stdout",
     "output_type": "stream",
     "text": [
      "Минимальный размер буфера для вероятности обработки >= 0.95: 12\n"
     ]
    },
    {
     "data": {
      "text/plain": [
       "<matplotlib.lines.Line2D at 0x7198b8ad1ad0>"
      ]
     },
     "execution_count": 64,
     "metadata": {},
     "output_type": "execute_result"
    },
    {
     "data": {
      "image/png": "[encoded data removed]",
      "text/plain": [
       "<Figure size 640x480 with 1 Axes>"
      ]
     },
     "metadata": {},
     "output_type": "display_data"
    }
   ],
   "source": [
    "processing_probability = dict()\n",
    "\n",
    "elapsed_time, input_moments, processing_time = generate_T1_t2_exp(SIMULATION_TIME, LAMBDA_1, LAMBDA_2)\n",
    "\n",
    "threshold_crossed = False\n",
    "\n",
    "for buffer_size in range(1, 30):\n",
    "    processing_probability[buffer_size] = generalized_model_with_buffer(input_moments, processing_time, buffer_size)\n",
    "\n",
    "    if processing_probability[buffer_size] >= 0.95 and not threshold_crossed:\n",
    "        threshold_crossed = True\n",
    "        print(f'Минимальный размер буфера для вероятности обработки >= 0.95: {buffer_size}')\n",
    "\n",
    "sns.lineplot(processing_probability)\n",
    "plt.axhline(y=0.95, color='red')"
   ]
  },
  {
   "cell_type": "code",
   "execution_count": 70,
   "metadata": {},
   "outputs": [
    {
     "name": "stdout",
     "output_type": "stream",
     "text": [
      "Минимальный размер буфера для вероятности обработки >= 0.95: 14\n"
     ]
    },
    {
     "data": {
      "text/plain": [
       "<matplotlib.lines.Line2D at 0x7198c8420b10>"
      ]
     },
     "execution_count": 70,
     "metadata": {},
     "output_type": "execute_result"
    },
    {
     "data": {
      "image/png": "[encoded data removed]",
      "text/plain": [
       "<Figure size 640x480 with 1 Axes>"
      ]
     },
     "metadata": {},
     "output_type": "display_data"
    }
   ],
   "source": [
    "processing_probability = dict()\n",
    "\n",
    "SAMPLES_NUMBER = 100\n",
    "\n",
    "threshold_crossed = False\n",
    "\n",
    "for buffer_size in range(1, 30):\n",
    "    probabilities = list()\n",
    "    for _ in range(SAMPLES_NUMBER):\n",
    "        elapsed_time, input_moments, processing_time = generate_T1_t2_exp(SIMULATION_TIME, LAMBDA_1, LAMBDA_2)\n",
    "\n",
    "        probabilities.append(generalized_model_with_buffer(input_moments, processing_time, buffer_size))\n",
    "\n",
    "    sampled_probability = len(list(filter(lambda x: x >= 0.95, probabilities))) / len(probabilities)\n",
    "\n",
    "    processing_probability[buffer_size] = sampled_probability\n",
    "\n",
    "    if processing_probability[buffer_size] >= 0.95 and not threshold_crossed:\n",
    "        threshold_crossed = True\n",
    "        print(f'Минимальный размер буфера для вероятности обработки >= 0.95: {buffer_size}')\n",
    "\n",
    "sns.lineplot(processing_probability)\n",
    "plt.axhline(y=0.95, color='red')"
   ]
  },
  {
   "cell_type": "code",
   "execution_count": null,
   "metadata": {},
   "outputs": [],
   "source": []
  }
 ],
 "metadata": {
  "kernelspec": {
   "display_name": ".venv",
   "language": "python",
   "name": "python3"
  },
  "language_info": {
   "codemirror_mode": {
    "name": "ipython",
    "version": 3
   },
   "file_extension": ".py",
   "mimetype": "text/x-python",
   "name": "python",
   "nbconvert_exporter": "python",
   "pygments_lexer": "ipython3",
   "version": "3.11.8"
  }
 },
 "nbformat": 4,
 "nbformat_minor": 2
}
